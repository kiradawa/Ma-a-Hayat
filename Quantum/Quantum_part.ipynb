{
 "cells": [
  {
   "cell_type": "code",
   "execution_count": 14,
   "id": "e9f3cb8e-ce74-4722-a3f8-e3edc47db9bb",
   "metadata": {
    "tags": []
   },
   "outputs": [
    {
     "name": "stdout",
     "output_type": "stream",
     "text": [
      "1.0.2\n"
     ]
    }
   ],
   "source": [
    "import qiskit\n",
    "print(qiskit.__version__)"
   ]
  },
  {
   "cell_type": "code",
   "execution_count": 15,
   "id": "66c5800d-5394-4c1d-9f3c-5049b716e9a8",
   "metadata": {
    "tags": []
   },
   "outputs": [],
   "source": [
    "import json"
   ]
  },
  {
   "cell_type": "code",
   "execution_count": 16,
   "id": "fb83d591-7138-4e0a-95b9-69d190d0f36e",
   "metadata": {},
   "outputs": [],
   "source": [
    "def read_data(data_file):\n",
    "    file = open(data_file)\n",
    "    data = json.load(file)\n",
    "    return data"
   ]
  },
  {
   "cell_type": "code",
   "execution_count": 17,
   "id": "a960e0f3-d91f-4630-bf8d-3fc37adaeed7",
   "metadata": {
    "tags": []
   },
   "outputs": [],
   "source": [
    "data = read_data(\"sample.json\")\n",
    "\n",
    "# data = {\n",
    "#     \"0\": {\"connected_nodes\": [{\"node\": \"5\", \"weight\": 5}, {\"node\": \"6\", \"weight\": 3}], \"quantity\": 5, \"quality\": 3},\n",
    "#     \"1\": {\"connected_nodes\": [{\"node\": \"5\", \"weight\": 7}, {\"node\": \"7\", \"weight\": 4}], \"quantity\": 4, \"quality\": 2},\n",
    "#     \"2\": {\"connected_nodes\": [{\"node\": \"6\", \"weight\": 2}, {\"node\": \"8\", \"weight\": 6}], \"quantity\": 3, \"quality\": 4},\n",
    "#     \"3\": {\"connected_nodes\": [{\"node\": \"7\", \"weight\": 1}, {\"node\": \"9\", \"weight\": 5}], \"quantity\": 6, \"quality\": 5},\n",
    "#     \"4\": {\"connected_nodes\": [{\"node\": \"8\", \"weight\": 8}, {\"node\": \"9\", \"weight\": 2}], \"quantity\": 2, \"quality\": 1},\n",
    "#     \"5\": {\"connected_nodes\": [{\"node\": \"0\", \"weight\": 5}, {\"node\": \"1\", \"weight\": 7}], \"quantity\": 7, \"quality\": 4},\n",
    "#     \"6\": {\"connected_nodes\": [{\"node\": \"0\", \"weight\": 3}, {\"node\": \"2\", \"weight\": 2}], \"quantity\": 8, \"quality\": 3},\n",
    "#     \"7\": {\"connected_nodes\": [{\"node\": \"1\", \"weight\": 4}, {\"node\": \"3\", \"weight\": 1}], \"quantity\": 9, \"quality\": 2},\n",
    "#     \"8\": {\"connected_nodes\": [{\"node\": \"2\", \"weight\": 6}, {\"node\": \"4\", \"weight\": 8}], \"quantity\": 4, \"quality\": 5},\n",
    "#     \"9\": {\"connected_nodes\": [{\"node\": \"3\", \"weight\": 5}, {\"node\": \"4\", \"weight\": 2}], \"quantity\": 6, \"quality\": 1}\n",
    "# }"
   ]
  },
  {
   "cell_type": "code",
   "execution_count": 48,
   "id": "68919dc3-7233-44ee-93d6-c557b936dbef",
   "metadata": {
    "tags": []
   },
   "outputs": [
    {
     "name": "stdout",
     "output_type": "stream",
     "text": [
      "\n",
      "Z\n",
      "\n"
     ]
    },
    {
     "ename": "TypeError",
     "evalue": "__init__() got an unexpected keyword argument 'num_qubits'",
     "output_type": "error",
     "traceback": [
      "\u001b[0;31m---------------------------------------------------------------------------\u001b[0m",
      "\u001b[0;31mTypeError\u001b[0m                                 Traceback (most recent call last)",
      "Cell \u001b[0;32mIn[48], line 145\u001b[0m\n\u001b[1;32m    142\u001b[0m coefficients \u001b[38;5;241m=\u001b[39m get_qubo_coefficients(data)\n\u001b[1;32m    144\u001b[0m \u001b[38;5;66;03m# Convert QUBO to Hamiltonian\u001b[39;00m\n\u001b[0;32m--> 145\u001b[0m hamiltonian \u001b[38;5;241m=\u001b[39m \u001b[43mget_hamiltonian\u001b[49m\u001b[43m(\u001b[49m\u001b[43mcoefficients\u001b[49m\u001b[43m,\u001b[49m\u001b[43m \u001b[49m\u001b[43mnum_nodes\u001b[49m\u001b[43m)\u001b[49m\n\u001b[1;32m    147\u001b[0m \u001b[38;5;66;03m# Solve the QUBO using VQE\u001b[39;00m\n\u001b[1;32m    148\u001b[0m optimal_state \u001b[38;5;241m=\u001b[39m solve_qubo(hamiltonian, num_nodes)\n",
      "Cell \u001b[0;32mIn[48], line 109\u001b[0m, in \u001b[0;36mget_hamiltonian\u001b[0;34m(coefficients, num_nodes)\u001b[0m\n\u001b[1;32m    106\u001b[0m     \u001b[38;5;28;01melse\u001b[39;00m:\n\u001b[1;32m    107\u001b[0m         pauli_terms\u001b[38;5;241m.\u001b[39mappend((coeff, \u001b[38;5;124m'\u001b[39m\u001b[38;5;124mZ\u001b[39m\u001b[38;5;124m'\u001b[39m\u001b[38;5;241m*\u001b[39m\u001b[38;5;28mmin\u001b[39m(i, j) \u001b[38;5;241m+\u001b[39m \u001b[38;5;124m'\u001b[39m\u001b[38;5;124mZ\u001b[39m\u001b[38;5;124m'\u001b[39m \u001b[38;5;241m+\u001b[39m \u001b[38;5;124m'\u001b[39m\u001b[38;5;124mI\u001b[39m\u001b[38;5;124m'\u001b[39m\u001b[38;5;241m*\u001b[39m(\u001b[38;5;28mabs\u001b[39m(i\u001b[38;5;241m-\u001b[39mj)\u001b[38;5;241m-\u001b[39m\u001b[38;5;241m1\u001b[39m) \u001b[38;5;241m+\u001b[39m \u001b[38;5;124m'\u001b[39m\u001b[38;5;124mZ\u001b[39m\u001b[38;5;124m'\u001b[39m \u001b[38;5;241m+\u001b[39m \u001b[38;5;124m'\u001b[39m\u001b[38;5;124mI\u001b[39m\u001b[38;5;124m'\u001b[39m\u001b[38;5;241m*\u001b[39m(num_qubits\u001b[38;5;241m-\u001b[39m\u001b[38;5;28mmax\u001b[39m(i, j)\u001b[38;5;241m-\u001b[39m\u001b[38;5;241m1\u001b[39m)))\n\u001b[0;32m--> 109\u001b[0m hamiltonian \u001b[38;5;241m=\u001b[39m \u001b[43mSparsePauliOp\u001b[49m\u001b[43m(\u001b[49m\u001b[43mpauli_terms\u001b[49m\u001b[43m,\u001b[49m\u001b[43m \u001b[49m\u001b[43mnum_qubits\u001b[49m\u001b[38;5;241;43m=\u001b[39;49m\u001b[43mnum_qubits\u001b[49m\u001b[43m)\u001b[49m\n\u001b[1;32m    110\u001b[0m \u001b[38;5;28;01mreturn\u001b[39;00m hamiltonian\n",
      "\u001b[0;31mTypeError\u001b[0m: __init__() got an unexpected keyword argument 'num_qubits'"
     ]
    }
   ],
   "source": [
    "from qiskit_algorithms import VQE\n",
    "from qiskit_algorithms.optimizers import COBYLA\n",
    "from qiskit.circuit.library import TwoLocal\n",
    "from qiskit.quantum_info import Pauli\n",
    "from qiskit.quantum_info import SparsePauliOp\n",
    "from qiskit_aer import Aer\n",
    "from qiskit import QuantumCircuit\n",
    "\n",
    "# Define the QUBO coefficients\n",
    "def get_qubo_coefficients(data):\n",
    "    num_nodes = len(data)\n",
    "    nodes = data.keys()\n",
    "    coefficients = {}\n",
    "    \n",
    "    for i in range(len(data)):\n",
    "        for j in range(len(data)):\n",
    "            coefficients[(str(i), str(i))] = 0\n",
    "    \n",
    "    # Penalty term coefficients\n",
    "    alpha = 1000  # Penalty coefficient for water supply constraints\n",
    "    beta = 1000  # Penalty coefficient for water demand constraints\n",
    "    gamma = 1000  # Penalty coefficient for water quality constraints\n",
    "    delta = 1000  # Penalty coefficient for flow conservation constraints\n",
    "\n",
    "    # Original objective function coefficients\n",
    "    # for i in range(num_nodes):\n",
    "    #     for j in range(len(data[str(i)]['connected_nodes'])):\n",
    "    #         node_j = int(data[str(i)]['connected_nodes'][j]['node'])\n",
    "    #         weight = data[str(i)]['connected_nodes'][j]['weight']\n",
    "    #         coefficients[(str(i), str(node_j))] = weight\n",
    "    \n",
    "    count = 1\n",
    "    \n",
    "    for node in nodes:\n",
    "        \n",
    "        connected_nodes = data[node]['connected_nodes']\n",
    "        \n",
    "        if data[node]['type'] == 'Source':\n",
    "                coefficients[(node, node)] += alpha\n",
    "                \n",
    "        for conn_node in connected_nodes:\n",
    "            n = str(conn_node['node'])\n",
    "            w = conn_node['weight']\n",
    "            coefficients[(node, n)] = w\n",
    "            \n",
    "            # Water supply constraints\n",
    "            if data[node]['type'] == 'Source':\n",
    "                coefficients[(node, n)] -= 2*alpha*data[n]['quantity']\n",
    "                \n",
    "            # Water demand constraints\n",
    "            if data[node]['type'] == 'Destination':\n",
    "                coefficients[(node, n)] -= 2*beta*data[n]['quantity']\n",
    "                \n",
    "        count += 1\n",
    "            \n",
    "    # # Water supply constraints\n",
    "    # for i in range(5):  # Assuming nodes 0 to 4 are source nodes\n",
    "    #     coefficients[(i, i)] += alpha\n",
    "    #     coefficients[(i, num_nodes)] = -2 * alpha * data[str(i)]['quantity']\n",
    "        \n",
    "#     # Water demand constraints\n",
    "#     for j in range(5, num_nodes):  # Assuming nodes 5 and above are destination nodes\n",
    "#         for i in range(num_nodes):\n",
    "#             coefficients[(i, j)] += beta\n",
    "#         coefficients[(j, num_nodes)] = -2 * beta * data[str(j)]['quantity']\n",
    "\n",
    "#     # Water quality constraints\n",
    "#     for j in range(5, num_nodes):  # Assuming nodes 5 and above are destination nodes\n",
    "#         for i in range(5):  # Assuming nodes 0 to 4 are source nodes\n",
    "#             coefficients[(i, j)] += gamma * data[str(j)]['quality']\n",
    "#             coefficients[(i, num_nodes)] -= gamma * data[str(j)]['quality'] * data[str(i)]['quality']\n",
    "\n",
    "#     # Flow conservation constraints\n",
    "#     for i in range(num_nodes):\n",
    "#         for j in range(num_nodes):\n",
    "#             coefficients[(i, j)] += delta\n",
    "#         for k in range(num_nodes):\n",
    "#             coefficients[(k, i)] -= delta\n",
    "\n",
    "    return coefficients\n",
    "\n",
    "# Convert QUBO coefficients to Hamiltonian\n",
    "def get_hamiltonian(coefficients, num_nodes):\n",
    "#    pauli_list = []\n",
    "#     for (i, j), coeff in coefficients.items():\n",
    "#         print(i,j)\n",
    "#         if i == j:\n",
    "            \n",
    "#             pauli_list.append(coeff * SparsePauliOp(Pauli('Z' * i)))\n",
    "#         else:\n",
    "#             pauli_list.append(coeff * SparsePauliOp(Pauli('Z' * i)) * SparsePauliOp(Pauli('Z' * j)))\n",
    "\n",
    "#     hamiltonian = PauliSumOp(pauli_list)\n",
    "#     return hamiltonian\n",
    "\n",
    "    pauli_terms = []\n",
    "    for (u, v), coeff in qubo_coefficients.items():\n",
    "        \n",
    "        i = int(u)\n",
    "        j = int(v)\n",
    "        \n",
    "        print('Z'*i)\n",
    "        \n",
    "        if i == j:\n",
    "            pauli_terms.append((coeff, 'Z'*i + 'I'*(num_qubits-i-1)))\n",
    "        else:\n",
    "            pauli_terms.append((coeff, 'Z'*min(i, j) + 'Z' + 'I'*(abs(i-j)-1) + 'Z' + 'I'*(num_qubits-max(i, j)-1)))\n",
    "\n",
    "    hamiltonian = SparsePauliOp(pauli_terms, num_qubits=num_qubits)\n",
    "    return hamiltonian\n",
    "    \n",
    "#     for (i, j), coeff in coefficients.items():\n",
    "#         print(i,j)\n",
    "        \n",
    "#         if j == num_nodes:\n",
    "#             pauli_list.append((coeff, Pauli('I' * i + 'Z' + 'I' * (num_nodes - i - 1))))\n",
    "#         else:\n",
    "#             pauli_list.append((coeff, Pauli('I' * i + 'Z' + 'I' * (j - i - 1) + 'Z' + 'I' * (num_nodes - j - 1))))\n",
    "            \n",
    "#     hamiltonian = SparsePauliOp(pauli_list)\n",
    "#     return hamiltonian\n",
    "\n",
    "\n",
    "# Solve the QUBO using VQE\n",
    "def solve_qubo(hamiltonian, num_nodes):\n",
    "    # Define the ansatz circuit\n",
    "    ansatz = TwoLocal(num_nodes, ['ry', 'rz'], 'cz', reps=1)\n",
    "\n",
    "    # Define the classical optimizer\n",
    "    optimizer = COBYLA(maxiter=1000)\n",
    "\n",
    "    # Run VQE\n",
    "    backend = Aer.get_backend('statevector_simulator')\n",
    "    vqe = VQE(ansatz, optimizer, quantum_instance=backend)\n",
    "    result = vqe.compute_minimum_eigenvalue(hamiltonian)\n",
    "\n",
    "    return result.eigenstate\n",
    "\n",
    "num_nodes = len(data)\n",
    "\n",
    "# Get QUBO coefficients\n",
    "coefficients = get_qubo_coefficients(data)\n",
    "\n",
    "# Convert QUBO to Hamiltonian\n",
    "hamiltonian = get_hamiltonian(coefficients, num_nodes)\n",
    "\n",
    "# Solve the QUBO using VQE\n",
    "optimal_state = solve_qubo(hamiltonian, num_nodes)\n",
    "\n",
    "# Print the optimal flow\n",
    "for i in range(num_nodes):\n",
    "    for j in range(num_nodes):\n",
    "        pauli_op = SparsePauliOp(['I' * i + 'Z' + 'I' * (j - i - 1) + 'Z' + 'I' * (num_nodes - j - 1)])\n",
    "        if abs(optimal_state.expectation_value(pauli_op).real) > 0.5:\n",
    "            print(f'Water flows from node {i} to node {j}')\n",
    "\n",
    "\n",
    "#print(get_qubo_coefficients(data))"
   ]
  },
  {
   "cell_type": "code",
   "execution_count": 45,
   "id": "2e3dfb67-c8af-4d7c-b2b3-60281ea95618",
   "metadata": {
    "tags": []
   },
   "outputs": [
    {
     "name": "stdout",
     "output_type": "stream",
     "text": [
      "ZZZZZ\n"
     ]
    }
   ],
   "source": [
    "print('Z'*5)"
   ]
  },
  {
   "cell_type": "code",
   "execution_count": null,
   "id": "bb76999f-03ec-4c35-9d8a-dec4f7a2dbca",
   "metadata": {},
   "outputs": [],
   "source": []
  }
 ],
 "metadata": {
  "kernelspec": {
   "display_name": "Python 3 [Qiskit]",
   "language": "python",
   "name": "python3_qiskit_xc42lw"
  },
  "language_info": {
   "codemirror_mode": {
    "name": "ipython",
    "version": 3
   },
   "file_extension": ".py",
   "mimetype": "text/x-python",
   "name": "python",
   "nbconvert_exporter": "python",
   "pygments_lexer": "ipython3",
   "version": "3.9.18"
  }
 },
 "nbformat": 4,
 "nbformat_minor": 5
}
